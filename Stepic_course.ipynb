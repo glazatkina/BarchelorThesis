{
 "metadata": {
  "name": "",
  "signature": "sha256:5e6e283337486ba6ecf22721d37dc2cf6f44fa0b75d58c03313d8778ef33bdde"
 },
 "nbformat": 3,
 "nbformat_minor": 0,
 "worksheets": [
  {
   "cells": [
    {
     "cell_type": "heading",
     "level": 3,
     "metadata": {},
     "source": [
      "Simple math"
     ]
    },
    {
     "cell_type": "code",
     "collapsed": false,
     "input": [
      "#integer math\n",
      "print(\"Integer division:\", 7 // 3)\n",
      "print(\"Division remainder:\", 7 % 3)\n",
      "print(\"Involution:\", 9 ** 2)\n",
      "\n",
      "#float math\n",
      "print(\"Float numbers:\", 0.5)\n",
      "print(\"Float division:\", 5 / 2)\n",
      "print(\"Exponential view:\", 5e-1)\n",
      "print(\"Sqrt:\", 9 ** 0.5)"
     ],
     "language": "python",
     "metadata": {},
     "outputs": [
      {
       "output_type": "stream",
       "stream": "stdout",
       "text": [
        "Integer division: 2\n",
        "Division remainder: 1\n",
        "Involution: 81\n",
        "Float numbers: 0.5\n",
        "Float division: 2.5\n",
        "Exponential view: 0.5\n",
        "Sqrt: 3.0\n"
       ]
      }
     ],
     "prompt_number": 1
    },
    {
     "cell_type": "heading",
     "level": 3,
     "metadata": {},
     "source": [
      "Types of data"
     ]
    },
    {
     "cell_type": "code",
     "collapsed": false,
     "input": [
      "#integer\n",
      "print(\"To int:\",int(2.3))\n",
      "print(\"Negative to int:\", int(-1.6))\n",
      "print(\"To float:\", float(2))\n",
      "#float\n",
      "print(\"Not null magic:\", 9**19 - int(float(9**19)))\n",
      "print(\"What type of 7?\", type(7))\n",
      "print(\"What type of 7.0?\", type(7.0))\n",
      "\n",
      "#also have string and bool data types"
     ],
     "language": "python",
     "metadata": {},
     "outputs": [
      {
       "output_type": "stream",
       "stream": "stdout",
       "text": [
        "To int: 2\n",
        "Negative to int: -1\n",
        "To float: 2.0\n",
        "Not null magic: 89\n",
        "What type of 7? <class 'int'>\n",
        "What type of 7.0? <class 'float'>\n"
       ]
      }
     ],
     "prompt_number": 2
    },
    {
     "cell_type": "heading",
     "level": 3,
     "metadata": {},
     "source": [
      "Variables. Input."
     ]
    },
    {
     "cell_type": "code",
     "collapsed": false,
     "input": [
      "#dynamic typization\n",
      "a = int(input(\"Type your integer number \")) #input() read data from keyboyard, input(\"Msg\") write msg before \n",
      "print(\"Your a is\", a )\n",
      "\n",
      "a = input(\"Type your name \")\n",
      "print(\"Hi,\",a)"
     ],
     "language": "python",
     "metadata": {},
     "outputs": [
      {
       "name": "stdout",
       "output_type": "stream",
       "stream": "stdout",
       "text": [
        "Type your integer number 12\n"
       ]
      },
      {
       "output_type": "stream",
       "stream": "stdout",
       "text": [
        "Your a is 12\n"
       ]
      },
      {
       "name": "stdout",
       "output_type": "stream",
       "stream": "stdout",
       "text": [
        "Type your name \u0439\u0446\u0443\n"
       ]
      },
      {
       "output_type": "stream",
       "stream": "stdout",
       "text": [
        "Hi, \u0439\u0446\u0443\n"
       ]
      }
     ],
     "prompt_number": 4
    },
    {
     "cell_type": "heading",
     "level": 3,
     "metadata": {},
     "source": [
      "If-else construction"
     ]
    },
    {
     "cell_type": "code",
     "collapsed": false,
     "input": [
      "x = int(input(\"Type your number \"))\n",
      "\n",
      "#when we write if-else construction and want to do more than one action, we should use simular indent\n",
      "\n",
      "if x % 2 == 0:\n",
      "    print(\"Your x is even\")\n",
      "else:\n",
      "    print(\"Your x is odd\")\n",
      "    print(\"Test this actions\")\n",
      "    \n",
      "#if condition_1:\n",
      "#..\n",
      "#elif condition_2:\n",
      "#..\n",
      "#else:\n",
      "#.."
     ],
     "language": "python",
     "metadata": {},
     "outputs": [
      {
       "name": "stdout",
       "output_type": "stream",
       "stream": "stdout",
       "text": [
        "Type your number 123\n"
       ]
      },
      {
       "output_type": "stream",
       "stream": "stdout",
       "text": [
        "Your x is odd\n",
        "Test this actions\n"
       ]
      }
     ],
     "prompt_number": 5
    },
    {
     "cell_type": "heading",
     "level": 3,
     "metadata": {},
     "source": [
      "Strings"
     ]
    },
    {
     "cell_type": "code",
     "collapsed": false,
     "input": [
      "#can use any quotes\n",
      "'test 1'\n",
      "\"test 2\"\n",
      "#if we want to write multipline text we need 3 quotes at begin and end of string\n",
      "\"\"\"This is\n",
      "multiline text\"\"\"\n",
      "\n",
      "'''This one too\n",
      "multiline'''\n",
      "\n",
      "#can multiply strings, find length and concatenate\n",
      "x = \"Natasha \"\n",
      "y = \"Glazkina\"\n",
      "print(\"Concatenate:\", x + y)\n",
      "print(\"Multiply:\", x*3)\n",
      "print(\"Find len:\", len(x))\n",
      "\n",
      "#strings coudn't be changed\n",
      "x[1]\n",
      "x[-1] #last symbol\n",
      "#enum of symbols\n",
      "for c in x:\n",
      "    print(c)\n",
      "    \n",
      "print(x.count('a')) #find how many times this substring haves in your string\n",
      "x.upper()\n",
      "x.lower()\n",
      "x.count(y)\n",
      "x.find(y)\n",
      "x.replace('N', \"WWW\")\n",
      "x[1]\n",
      "x[1:4]\n",
      "x[:4]\n",
      "x[4:]\n",
      "x[-4:]\n",
      "x[1:-1]\n",
      "# string[from:to:step] string[::-1] -- from right to left symbols"
     ],
     "language": "python",
     "metadata": {},
     "outputs": [
      {
       "output_type": "stream",
       "stream": "stdout",
       "text": [
        "Concatenate: Natasha Glazkina\n",
        "Multiply: Natasha Natasha Natasha \n",
        "Find len: 8\n",
        "N\n",
        "a\n",
        "t\n",
        "a\n",
        "s\n",
        "h\n",
        "a\n",
        " \n",
        "3\n",
        "WWWatasha \n"
       ]
      }
     ],
     "prompt_number": 33
    },
    {
     "cell_type": "heading",
     "level": 3,
     "metadata": {},
     "source": [
      "Cycles: while, for. Operators: break, continue. Multi input."
     ]
    },
    {
     "cell_type": "code",
     "collapsed": false,
     "input": [
      "#while cycle\n",
      "a = int(input(\"Enter your triangle's size: \"))\n",
      "print(\"While cycle with triangle:\")\n",
      "while a > 0:\n",
      "    print ('*' * a)\n",
      "    a-=1\n",
      "    if (a % 2 == 0):\n",
      "        continue        # next step\n",
      "    if (a % 2 == 0):\n",
      "        break           # break all steps\n",
      "        \n",
      "#for cycle\n",
      "print (\"For with small data's:\")\n",
      "for i in 2,3,5:\n",
      "    print(i*i)\n",
      "    \n",
      "#for in range(10) == [0; 10) with step = 1 range(to), range(from, to), range(from, to, step)\n",
      "print(\"For with range(10)\")\n",
      "for i in range(10):\n",
      "    print(i*i)\n",
      "    \n",
      "a,b = (int(i) for i in input(\"Enter two numbers: \").split())\n",
      "print(\"Your a and b is\", a, b)"
     ],
     "language": "python",
     "metadata": {},
     "outputs": [
      {
       "name": "stdout",
       "output_type": "stream",
       "stream": "stdout",
       "text": [
        "Enter your triangle's size: 1\n"
       ]
      },
      {
       "output_type": "stream",
       "stream": "stdout",
       "text": [
        "While cycle with triangle:\n",
        "*\n",
        "For with small data's:\n",
        "4\n",
        "9\n",
        "25\n",
        "For with range(10)\n",
        "0\n",
        "1\n",
        "4\n",
        "9\n",
        "16\n",
        "25\n",
        "36\n",
        "49\n",
        "64\n",
        "81\n"
       ]
      },
      {
       "name": "stdout",
       "output_type": "stream",
       "stream": "stdout",
       "text": [
        "Enter two numbers: 1 2\n"
       ]
      },
      {
       "output_type": "stream",
       "stream": "stdout",
       "text": [
        "Ypur a and b is 1 2\n"
       ]
      }
     ],
     "prompt_number": 25
    },
    {
     "cell_type": "heading",
     "level": 3,
     "metadata": {},
     "source": [
      "Lists"
     ]
    },
    {
     "cell_type": "code",
     "collapsed": false,
     "input": [
      "#we can change values\n",
      "students = ['Ivan', 'Masha']\n",
      "students.append('Olga')\n",
      "students += ['Boris', 'Katya']\n",
      "students.insert(1, 'Olga') #where and what, another elements shifted\n",
      "#if we add a string it will be added as list of chars\n",
      "students += 'Olga'\n",
      "\n",
      "#delete elements\n",
      "students.remove('Olga')    #will deleted first 'olga'\n",
      "del students[0]\n",
      "if 'Olga' in students:\n",
      "    print(\"Get out bitch!!!\")\n",
      "    \n",
      "#sort, find min and max. Nessesary that our elements were comparable (have same type)\n",
      "ordered = sorted(students)\n",
      "students.sort()\n",
      "students.min()\n",
      "students.max()\n",
      "reversed(students)\n",
      "students.reverse()\n",
      "students[::-1]\n",
      "\n",
      "#generation of lists\n",
      "a = [int(i) for i in input().split()]\n",
      "\n",
      "a = [[1,2,3], [4,5,6], [7,8,9]]\n",
      "a[1][1]\n",
      "a[1] # [4,5,6]\n",
      "\n",
      "a = [[0 for j in range(n)] for i in range(n)]"
     ],
     "language": "python",
     "metadata": {},
     "outputs": [
      {
       "output_type": "stream",
       "stream": "stdout",
       "text": [
        "Get out bitch!!!\n"
       ]
      }
     ],
     "prompt_number": 35
    },
    {
     "cell_type": "heading",
     "level": 3,
     "metadata": {},
     "source": [
      "Functions"
     ]
    },
    {
     "cell_type": "code",
     "collapsed": false,
     "input": [
      "#declaration of function\n",
      "def min2(a,b):\n",
      "    if a <= b:\n",
      "        return a\n",
      "    else:\n",
      "        return b\n",
      "\n",
      "#calling functions\n",
      "m = min2(132, 30)\n",
      "print(m)\n",
      "\n",
      "#any count of params, params in list\n",
      "def min(*a):\n",
      "    m = a[0]\n",
      "    for x in a:\n",
      "        m > x:\n",
      "            m = x\n",
      "     return m   \n",
      "\n",
      "#default params, can swap params when use: my_range(stop = 10, start= 1)\n",
      "#local values doesn't see inside\n",
      "def my_range(start,stop, step = 1):\n",
      "    res = []\n",
      "    if (step > 0):\n",
      "        x = start\n",
      "        while x < stop:\n",
      "            res += [x]\n",
      "            x += step\n",
      "    elif step < 0:\n",
      "        x = start\n",
      "        while x > stop:\n",
      "            res += [x]\n",
      "            x += step\n",
      "    return res\n",
      "\n"
     ],
     "language": "python",
     "metadata": {},
     "outputs": [
      {
       "output_type": "stream",
       "stream": "stdout",
       "text": [
        "30\n"
       ]
      }
     ],
     "prompt_number": 16
    },
    {
     "cell_type": "heading",
     "level": 3,
     "metadata": {},
     "source": [
      "Sets"
     ]
    },
    {
     "cell_type": "code",
     "collapsed": false,
     "input": [
      "#creating set\n",
      "s = set()\n",
      "#unordered set\n",
      "basket = {'apple', 'orange', 'banana'}\n",
      "#in any order\n",
      "\n",
      "#operations\n",
      "s.add('element')\n",
      "s.remove('element')    #if where no 'element' it will be error\n",
      "s.discard('element')    #no errors if 'element' didn't founded\n",
      "s.clear()\n",
      "'element' in s\n",
      "len(s)\n",
      "for x in basket:\n",
      "    print(x)"
     ],
     "language": "python",
     "metadata": {},
     "outputs": []
    },
    {
     "cell_type": "heading",
     "level": 3,
     "metadata": {},
     "source": [
      "Dictionaries, maps"
     ]
    },
    {
     "cell_type": "code",
     "collapsed": false,
     "input": [
      "#save pairs <key, value>\n",
      "a = {}\n",
      "a = dict()\n",
      "d = {'a':239, 10: 100}\n",
      "print(d[10])\n",
      "\n",
      "#operations\n",
      "'a' in d\n",
      "'key' not in d\n",
      "d[15] = 'new_value'\n",
      "d.get(15)\n",
      "del d[15]\n",
      "\n",
      "for key in d:\n",
      "\n",
      "for key in d.keys():\n",
      "\n",
      "for value in d.values():\n",
      "    \n",
      "for key,value in d.items():\n",
      "    \n",
      "d[15] = ['tester', 'test']"
     ],
     "language": "python",
     "metadata": {},
     "outputs": [
      {
       "output_type": "stream",
       "stream": "stdout",
       "text": [
        "100\n"
       ]
      },
      {
       "metadata": {},
       "output_type": "pyout",
       "prompt_number": 40,
       "text": [
        "'new_value'"
       ]
      }
     ],
     "prompt_number": 40
    },
    {
     "cell_type": "heading",
     "level": 3,
     "metadata": {},
     "source": [
      "Files: input and output"
     ]
    },
    {
     "cell_type": "code",
     "collapsed": false,
     "input": [
      "inf = open('file.txt','r') #reading file\n",
      "s1 = inf.readLine()\n",
      "inf.close()\n",
      "\n",
      "#auto closing file\n",
      "with open('text.txt') as inf:\n",
      "    s1 = inf.readLine()\n",
      "    s2 = inf.readLine()\n",
      "\n",
      "s = inf.readLine().strip() #delete all system symbols\n",
      "\n",
      "\n",
      "#reading all lines\n",
      "with open('filename') as inf:\n",
      "    for line in inf:\n",
      "        line = line.strip()\n",
      "        print(line)\n",
      "        \n",
      "#writing file\n",
      "ouf = open('filename.txt', 'w')\n",
      "ouf.write('Some text\\n')    #need to use \\n for new line\n",
      "ouf.write(str(25))    #need to use str() for writing non-string's data\n",
      "ouf.close()\n",
      "\n",
      "with open('text.txt','w') as ouf:\n",
      "    ouf.write(str(2))"
     ],
     "language": "python",
     "metadata": {},
     "outputs": []
    },
    {
     "cell_type": "code",
     "collapsed": false,
     "input": [
      "#task from stepic course (1...)\n",
      "x = int(input())\n",
      "h = int(input())\n",
      "m = int(input())\n",
      "x += h*60 + m\n",
      "h = x % 60\n",
      "x //= 60\n",
      "print(int(x))\n",
      "print(h)"
     ],
     "language": "python",
     "metadata": {},
     "outputs": []
    },
    {
     "cell_type": "code",
     "collapsed": false,
     "input": [
      "#task from stepic course (1.10.5)\n",
      "a = int(input())\n",
      "b = int(input())\n",
      "h = int(input())\n",
      "if (a <= h <= b) :\n",
      "    print('\u042d\u0442\u043e \u043d\u043e\u0440\u043c\u0430\u043b\u044c\u043d\u043e')\n",
      "elif (h < a):\n",
      "    print('\u041d\u0435\u0434\u043e\u0441\u044b\u043f')\n",
      "else:\n",
      "    print('\u041f\u0435\u0440\u0435\u0441\u044b\u043f')"
     ],
     "language": "python",
     "metadata": {},
     "outputs": [
      {
       "name": "stdout",
       "output_type": "stream",
       "stream": "stdout",
       "text": [
        "12\n"
       ]
      },
      {
       "name": "stdout",
       "output_type": "stream",
       "stream": "stdout",
       "text": [
        "123\n"
       ]
      },
      {
       "name": "stdout",
       "output_type": "stream",
       "stream": "stdout",
       "text": [
        "4\n"
       ]
      },
      {
       "output_type": "stream",
       "stream": "stdout",
       "text": [
        "\u041d\u0435\u0434\u043e\u0441\u044b\u043f\n"
       ]
      }
     ],
     "prompt_number": 10
    },
    {
     "cell_type": "code",
     "collapsed": false,
     "input": [
      "#task from stepic course (1.10.6)\n",
      "n = int(input())\n",
      "if (n % 400 == 0) or (n % 100 != 0 and n % 4 == 0):\n",
      "    print('\u0412\u0438\u0441\u043e\u043a\u043e\u0441\u043d\u044b\u0439')\n",
      "else:\n",
      "    print('\u041e\u0431\u044b\u0447\u043d\u044b\u0439')"
     ],
     "language": "python",
     "metadata": {},
     "outputs": [
      {
       "name": "stdout",
       "output_type": "stream",
       "stream": "stdout",
       "text": [
        "123\n"
       ]
      },
      {
       "output_type": "stream",
       "stream": "stdout",
       "text": [
        "\u041e\u0431\u044b\u0447\u043d\u044b\u0439\n"
       ]
      }
     ],
     "prompt_number": 9
    },
    {
     "cell_type": "code",
     "collapsed": false,
     "input": [
      "#task from stepic course (1.12.1) \n",
      "a = float(int(input()))\n",
      "b = float(int(input()))\n",
      "c = float(int(input()))\n",
      "p = (a + b + c) / 2\n",
      "s = (p * (p - a) * (p - b) * (p - c)) ** 0.5\n",
      "print(s)"
     ],
     "language": "python",
     "metadata": {},
     "outputs": [
      {
       "name": "stdout",
       "output_type": "stream",
       "stream": "stdout",
       "text": [
        "12\n"
       ]
      },
      {
       "name": "stdout",
       "output_type": "stream",
       "stream": "stdout",
       "text": [
        "12\n"
       ]
      },
      {
       "name": "stdout",
       "output_type": "stream",
       "stream": "stdout",
       "text": [
        "12\n"
       ]
      },
      {
       "output_type": "stream",
       "stream": "stdout",
       "text": [
        "62.353829072479584\n"
       ]
      }
     ],
     "prompt_number": 8
    },
    {
     "cell_type": "code",
     "collapsed": false,
     "input": [
      "#task from stepic cource (1.12.2)\n",
      "a = int(input())\n",
      "print ((-15 < a <= 12) or (14 < a < 17) or (19 <= a))"
     ],
     "language": "python",
     "metadata": {},
     "outputs": [
      {
       "name": "stdout",
       "output_type": "stream",
       "stream": "stdout",
       "text": [
        "12\n"
       ]
      },
      {
       "output_type": "stream",
       "stream": "stdout",
       "text": [
        "True\n"
       ]
      }
     ],
     "prompt_number": 7
    },
    {
     "cell_type": "code",
     "collapsed": false,
     "input": [
      "#task from stepic cource (1.12.3)\n",
      "a = float(input())\n",
      "b = float(input())\n",
      "s = input()\n",
      "\n",
      "if (s == '+'):\n",
      "    print (a + b)\n",
      "elif (s == '-'):\n",
      "    print (a - b)\n",
      "elif (s == '*'):\n",
      "    print (a * b)\n",
      "elif (s == '/'):\n",
      "    if (b == 0.0):\n",
      "        print('\u0414\u0435\u043b\u0435\u043d\u0438\u0435 \u043d\u0430 0!')\n",
      "    else:\n",
      "        print (a / b)\n",
      "elif (s == 'mod'):\n",
      "    if (b == 0.0):\n",
      "        print('\u0414\u0435\u043b\u0435\u043d\u0438\u0435 \u043d\u0430 0!')\n",
      "    else:\n",
      "        print (a % int(b))\n",
      "elif (s == 'div'):\n",
      "    if (b == 0.0):\n",
      "        print('\u0414\u0435\u043b\u0435\u043d\u0438\u0435 \u043d\u0430 0!')\n",
      "    else:\n",
      "        print (a // b)\n",
      "else:\n",
      "    print (a ** b)"
     ],
     "language": "python",
     "metadata": {},
     "outputs": [
      {
       "metadata": {},
       "output_type": "pyout",
       "prompt_number": 4,
       "text": [
        "'ijk'"
       ]
      }
     ],
     "prompt_number": 4
    },
    {
     "cell_type": "code",
     "collapsed": false,
     "input": [
      "#task from stepic cource (1.12.4)\n",
      "s = input()\n",
      "if s == '\u0442\u0440\u0435\u0443\u0433\u043e\u043b\u044c\u043d\u0438\u043a':\n",
      "    a = float(input())\n",
      "    b = float(input())\n",
      "    c = float(input())\n",
      "    p = (a + b + c) / 2\n",
      "    s = (p * (p - a) * (p - b) * (p - c)) ** 0.5\n",
      "    print(s)\n",
      "elif s == '\u043a\u0440\u0443\u0433':\n",
      "    a = float(input())\n",
      "    print(a * a * 3.14)\n",
      "else:\n",
      "    a = float(input())\n",
      "    b = float(input())\n",
      "    print (a * b)"
     ],
     "language": "python",
     "metadata": {},
     "outputs": [
      {
       "metadata": {},
       "output_type": "pyout",
       "prompt_number": 7,
       "text": [
        "['Olga', 'Sasha', 'Masha', 'Ivan']"
       ]
      }
     ],
     "prompt_number": 7
    },
    {
     "cell_type": "code",
     "collapsed": false,
     "input": [
      "#task from stepic cource (1.12.5)\n",
      "a = int(input())\n",
      "b = int(input())\n",
      "if a < b:\n",
      "    m = a\n",
      "    a = b\n",
      "    b = m\n",
      "c = int(input())\n",
      "if c > b:\n",
      "    m = c\n",
      "    c = b \n",
      "    b = m\n",
      "if b > a:\n",
      "    m = a\n",
      "    a = b\n",
      "    b = m\n",
      "print(a)\n",
      "print(c)\n",
      "print(b)"
     ],
     "language": "python",
     "metadata": {},
     "outputs": [
      {
       "metadata": {},
       "output_type": "pyout",
       "prompt_number": 4,
       "text": [
        "1"
       ]
      }
     ],
     "prompt_number": 4
    },
    {
     "cell_type": "code",
     "collapsed": false,
     "input": [
      "#task from stepic course (1.12.6)\n",
      "a = int(input())\n",
      "a1 = a % 10\n",
      "a2 = (a // 10) % 10\n",
      "if (a2 == 1) or (a1 == 0) or (a1 > 4):\n",
      "    print(a, end = ' ')\n",
      "    print('\u043f\u0440\u043e\u0433\u0440\u0430\u043c\u043c\u0438\u0441\u0442\u043e\u0432')\n",
      "elif (a1 == 1):\n",
      "    print(a, end = ' ')\n",
      "    print('\u043f\u0440\u043e\u0433\u0440\u0430\u043c\u043c\u0438\u0441\u0442')\n",
      "else:\n",
      "    print(a, end = ' ')\n",
      "    print('\u043f\u0440\u043e\u0433\u0440\u0430\u043c\u043c\u0438\u0441\u0442\u0430')"
     ],
     "language": "python",
     "metadata": {},
     "outputs": []
    },
    {
     "cell_type": "code",
     "collapsed": false,
     "input": [
      "#task from stepic cource (1.12.7)\n",
      "a = int(input())\n",
      "a1 = a // 100000\n",
      "a2 = (a // 10000) % 10\n",
      "a3 = (a // 1000) % 10\n",
      "a4 = (a // 100) % 10\n",
      "a5 = (a // 10) % 10\n",
      "a6 = a % 10\n",
      "if (a1 + a2 + a3 == a4 + a5 + a6):\n",
      "    print('\u0421\u0447\u0430\u0441\u0442\u043b\u0438\u0432\u044b\u0439')\n",
      "else:\n",
      "    print('\u041e\u0431\u044b\u0447\u043d\u044b\u0439')"
     ],
     "language": "python",
     "metadata": {},
     "outputs": [
      {
       "name": "stdout",
       "output_type": "stream",
       "stream": "stdout",
       "text": [
        "123345\n"
       ]
      },
      {
       "output_type": "stream",
       "stream": "stdout",
       "text": [
        "\u041e\u0431\u044b\u0447\u043d\u044b\u0439\n"
       ]
      }
     ],
     "prompt_number": 11
    },
    {
     "cell_type": "code",
     "collapsed": false,
     "input": [
      "#task from stepic cource(2.1.11)\n",
      "a = int(input())\n",
      "sum = a\n",
      "while a != 0:\n",
      "    a = int(input())\n",
      "    sum += a\n",
      "print(sum)"
     ],
     "language": "python",
     "metadata": {},
     "outputs": [
      {
       "name": "stdout",
       "output_type": "stream",
       "stream": "stdout",
       "text": [
        "123\n"
       ]
      },
      {
       "output_type": "stream",
       "stream": "stdout",
       "text": [
        "123 \u043f\u0440\u043e\u0433\u0440\u0430\u043c\u043c\u0438\u0441\u0442\u0430\n"
       ]
      }
     ],
     "prompt_number": 1
    },
    {
     "cell_type": "code",
     "collapsed": false,
     "input": [
      "# task from stepic cource (2.1.12)\n",
      "a = int(input())\n",
      "b = int(input())\n",
      "d = 1\n",
      "while (d % a != 0) or (d % b != 0):\n",
      "    d += 1\n",
      "print(d)\n",
      "    "
     ],
     "language": "python",
     "metadata": {},
     "outputs": [
      {
       "name": "stdout",
       "output_type": "stream",
       "stream": "stdout",
       "text": [
        "5 8 2 7 8 8 2 4\n"
       ]
      },
      {
       "name": "stdout",
       "output_type": "stream",
       "stream": "stdout",
       "text": [
        "8\n"
       ]
      },
      {
       "output_type": "stream",
       "stream": "stdout",
       "text": [
        "1 4 5 "
       ]
      }
     ],
     "prompt_number": 2
    },
    {
     "cell_type": "code",
     "collapsed": false,
     "input": [
      "# task from stepic cource (2.2.4)\n",
      "a = int(input())\n",
      "while a < 101:\n",
      "    if a > 9:\n",
      "        print(a)\n",
      "    a = int(input())"
     ],
     "language": "python",
     "metadata": {},
     "outputs": []
    },
    {
     "cell_type": "code",
     "collapsed": false,
     "input": [
      "# task from stepic cource (2.3.3)\n",
      "a = int(input())\n",
      "b = int(input())\n",
      "c = int(input())\n",
      "d = int(input())\n",
      "for i in range(c, d + 1):\n",
      "    print('\\t', end = '')\n",
      "    print(i, end = '')\n",
      "print()\n",
      "for i in range(a ,b + 1):\n",
      "    print(i, end = '')\n",
      "    for j in range(c, d + 1):\n",
      "        print('\\t', end = '')\n",
      "        print(i*j, end = '')\n",
      "    print()    "
     ],
     "language": "python",
     "metadata": {},
     "outputs": []
    },
    {
     "cell_type": "code",
     "collapsed": false,
     "input": [
      "# task from stepic cource (2.3.7)\n",
      "a = int(input())\n",
      "b = int(input())\n",
      "sum = 0.0\n",
      "c = 0.0\n",
      "while a % 3 != 0:\n",
      "    a += 1\n",
      "for i in range(a, b + 1, 3):\n",
      "    c += 1\n",
      "    sum += i\n",
      "print(sum / c)"
     ],
     "language": "python",
     "metadata": {},
     "outputs": []
    },
    {
     "cell_type": "code",
     "collapsed": false,
     "input": [
      "# task from stepic cource (2.4.3)\n",
      "s = input()\n",
      "s = s.upper()\n",
      "a = (s.count('G') + s.count('C')) * 100 / len(s)\n",
      "print(a)"
     ],
     "language": "python",
     "metadata": {},
     "outputs": []
    },
    {
     "cell_type": "code",
     "collapsed": false,
     "input": [
      "# task from stepic cource (2.4.7)\n",
      "s = input()\n",
      "ans = ''\n",
      "i = 0\n",
      "while i < len(s):\n",
      "    c = s[i]\n",
      "    counter = 0\n",
      "    while (i < len(s)) and (c == s[i]):\n",
      "        counter += 1\n",
      "        i += 1\n",
      "    ans += c + str(counter)\n",
      "print(ans)\n",
      "    "
     ],
     "language": "python",
     "metadata": {},
     "outputs": []
    },
    {
     "cell_type": "code",
     "collapsed": false,
     "input": [
      "# task from stepic cource (2.5.9)\n",
      "a = [int(i) for i in input().split()]\n",
      "sum = 0\n",
      "for i in range(len(a)):\n",
      "    sum += a[i]\n",
      "print(sum)"
     ],
     "language": "python",
     "metadata": {},
     "outputs": []
    },
    {
     "cell_type": "code",
     "collapsed": false,
     "input": [
      "# task from stepic cource (2.5.10)\n",
      "a = [int(i) for i in input().split()]\n",
      "if (len(a) > 1):\n",
      "    for i in range(len(a)):\n",
      "        if (i == 0):\n",
      "            print(a[i + 1] + a[-1], end=' ')\n",
      "        elif i == len(a) - 1:\n",
      "            print(a[0] + a[i - 1], end = ' ')\n",
      "        else:\n",
      "            print( a[i - 1] + a[i + 1], end = ' ')\n",
      "else:\n",
      "    print(a[0])"
     ],
     "language": "python",
     "metadata": {},
     "outputs": []
    },
    {
     "cell_type": "code",
     "collapsed": false,
     "input": [
      "# task from stepic cource (2.5.11)\n",
      "a = [int(i) for i in input().split()]\n",
      "a.sort()\n",
      "i = 0\n",
      "while i < len(a):\n",
      "    if a.count(a[i]) > 1:\n",
      "        print(a[i], end = ' ')\n",
      "        i += a.count(a[i])\n",
      "    else:\n",
      "        i += 1"
     ],
     "language": "python",
     "metadata": {},
     "outputs": []
    },
    {
     "cell_type": "code",
     "collapsed": false,
     "input": [
      "# task from stepic cource(2.6.7)\n",
      "a = int(input())\n",
      "sum = a\n",
      "sq = a * a\n",
      "while (sum != 0):\n",
      "    a = int(input())\n",
      "    sum += a\n",
      "    sq += a * a\n",
      "print(sq)"
     ],
     "language": "python",
     "metadata": {},
     "outputs": []
    },
    {
     "cell_type": "code",
     "collapsed": false,
     "input": [
      "# task from stepic cource (2.6.8)\n",
      "count = int(input())\n",
      "c = 0\n",
      "n = 0\n",
      "i = 0\n",
      "while (c < count):\n",
      "    n += 1\n",
      "    i = 0\n",
      "    while (c < count) and (i < n):\n",
      "        print(n, end = ' ' )\n",
      "        c += 1\n",
      "        i += 1\n",
      "    "
     ],
     "language": "python",
     "metadata": {},
     "outputs": []
    },
    {
     "cell_type": "code",
     "collapsed": false,
     "input": [
      "# task from stepic cource (2.6.9)\n",
      "b = [int(i) for i in input().split()]\n",
      "x = int(input())\n",
      "test = True\n",
      "for i in range(len(b)):\n",
      "    if (b[i] == x):\n",
      "        print(i, end = ' ')\n",
      "        test = False\n",
      "if test:\n",
      "    print('\u041e\u0442\u0441\u0443\u0442\u0441\u0442\u0432\u0443\u0435\u0442')\n",
      "    "
     ],
     "language": "python",
     "metadata": {},
     "outputs": [
      {
       "ename": "SyntaxError",
       "evalue": "invalid syntax (<ipython-input-4-8ec0943b35f5>, line 7)",
       "output_type": "pyerr",
       "traceback": [
        "\u001b[1;36m  File \u001b[1;32m\"<ipython-input-4-8ec0943b35f5>\"\u001b[1;36m, line \u001b[1;32m7\u001b[0m\n\u001b[1;33m    print(i, end = ' ')\u001b[0m\n\u001b[1;37m                 ^\u001b[0m\n\u001b[1;31mSyntaxError\u001b[0m\u001b[1;31m:\u001b[0m invalid syntax\n"
       ]
      }
     ],
     "prompt_number": 4
    },
    {
     "cell_type": "code",
     "collapsed": false,
     "input": [
      "# task fromn stepic cource (2.6.10)\n",
      "c = input()\n",
      "\n",
      "a = []\n",
      "#b = []\n",
      "i = 0;\n",
      "size = []\n",
      "n = 0\n",
      "m = 0\n",
      "while c != 'end':\n",
      "    \n",
      "    size = c.split()\n",
      "    a.append(size)\n",
      "    i += 1\n",
      "    #print(a)\n",
      "    c = input()\n",
      "\n",
      "\n",
      "n = len(a[0])\n",
      "#print(n)\n",
      "m = len(a)\n",
      "#print(m)\n",
      "for i in range(m):\n",
      "    for j in range(n):\n",
      "        a1 = int(a[i - 1][j])\n",
      "        a2 = int(a[i][j - 1])\n",
      "        a3 = 0\n",
      "        a4 = 0\n",
      "        if i == m - 1:\n",
      "            a3 = int(a[i - m + 1][j])\n",
      "        else:\n",
      "            a3 = int(a[i + 1][j])\n",
      "        if j == n - 1:\n",
      "            a4 = int(a[i][j - n + 1])\n",
      "        else:\n",
      "            a4 = int(a[i][j + 1])\n",
      "        print(a1 + a2 + a3 + a4, end = ' ')\n",
      "    print()\n"
     ],
     "language": "python",
     "metadata": {},
     "outputs": [
      {
       "name": "stdout",
       "output_type": "stream",
       "stream": "stdout",
       "text": [
        "9 5 3\n"
       ]
      },
      {
       "output_type": "stream",
       "stream": "stdout",
       "text": [
        "[['9', '5', '3']]\n"
       ]
      },
      {
       "name": "stdout",
       "output_type": "stream",
       "stream": "stdout",
       "text": [
        "0 7 -1\n"
       ]
      },
      {
       "output_type": "stream",
       "stream": "stdout",
       "text": [
        "[['9', '5', '3'], ['0', '7', '-1']]\n"
       ]
      },
      {
       "name": "stdout",
       "output_type": "stream",
       "stream": "stdout",
       "text": [
        "-5 2 9\n"
       ]
      },
      {
       "output_type": "stream",
       "stream": "stdout",
       "text": [
        "[['9', '5', '3'], ['0', '7', '-1'], ['-5', '2', '9']]\n"
       ]
      },
      {
       "name": "stdout",
       "output_type": "stream",
       "stream": "stdout",
       "text": [
        "end\n"
       ]
      },
      {
       "output_type": "stream",
       "stream": "stdout",
       "text": [
        "3\n",
        "3\n",
        "3 21 22 \n",
        "10 6 19 \n",
        "20 16 -1 \n"
       ]
      }
     ],
     "prompt_number": 6
    },
    {
     "cell_type": "code",
     "collapsed": false,
     "input": [
      "# task fromn stepic cource (2.6.11)\n",
      "n = int(input())\n",
      "a = [[0 for i in range(n)] for i in range(n)]\n",
      "#print(a)\n",
      "rot = \"right\"\n",
      "i = 0\n",
      "j = 0\n",
      "for k in range(1, n*n + 1):\n",
      "    a[i][j] = k\n",
      "    if (rot == \"right\"):\n",
      "        if (j < n - 1) and (a[i][j + 1] == 0):\n",
      "            j += 1\n",
      "        else:\n",
      "            rot = \"down\"\n",
      "            i += 1\n",
      "    elif (rot == \"down\"):\n",
      "        if (i < n - 1 and a[i + 1][j] == 0):\n",
      "            i += 1\n",
      "        else:\n",
      "            rot = \"left\"\n",
      "            j -= 1\n",
      "    elif (rot == \"left\"):\n",
      "        if (j > 0 and a[i][j - 1] == 0):\n",
      "            j -= 1\n",
      "        else:\n",
      "            rot = \"up\"\n",
      "            i -= 1\n",
      "    elif (rot == \"up\"):\n",
      "        if (i > 0 and a[i - 1][j] == 0):\n",
      "            i -= 1\n",
      "        else:\n",
      "            rot = \"right\"\n",
      "            j += 1\n",
      "for i in range(n):\n",
      "    for j in range(n):\n",
      "        print(a[i][j], end = \" \")\n",
      "    print()"
     ],
     "language": "python",
     "metadata": {},
     "outputs": [
      {
       "name": "stdout",
       "output_type": "stream",
       "stream": "stdout",
       "text": [
        "5\n"
       ]
      },
      {
       "output_type": "stream",
       "stream": "stdout",
       "text": [
        "[[0, 0, 0, 0, 0], [0, 0, 0, 0, 0], [0, 0, 0, 0, 0], [0, 0, 0, 0, 0], [0, 0, 0, 0, 0]]\n",
        "1 2 3 4 5 \n",
        "16 17 18 19 6 \n",
        "15 24 25 20 7 \n",
        "14 23 22 21 8 \n",
        "13 12 11 10 9 \n"
       ]
      }
     ],
     "prompt_number": 11
    },
    {
     "cell_type": "code",
     "collapsed": false,
     "input": [
      "# task from stepic course(3.1.8)\n",
      "\n",
      "def f(x):\n",
      "    # put your python code here\n",
      "    if (x <= -2):\n",
      "        return (1 - (x + 2) ** 2)\n",
      "    elif (-2 < x <= 2):\n",
      "        return (-x / 2)\n",
      "    else:\n",
      "        return ((x - 2) ** 2) + 1\n"
     ],
     "language": "python",
     "metadata": {},
     "outputs": [
      {
       "output_type": "stream",
       "stream": "stdout",
       "text": [
        "2\n"
       ]
      }
     ],
     "prompt_number": 23
    },
    {
     "cell_type": "code",
     "collapsed": false,
     "input": [
      "# task from stepic cource (3.1.9)\n",
      "\n",
      "def modify_list(l):\n",
      "    # put your python code here\n",
      "    not_odd = []\n",
      "    for num in l:\n",
      "        if (num % 2 != 0):\n",
      "            not_odd += [num]\n",
      "    for i in range(len(not_odd)):\n",
      "        l.remove(not_odd[i])\n",
      "    for i in range(len(l)):\n",
      "        l[i] //= 2\n",
      "\n",
      "lst = [1, 2, 3, 4, 5, 6]\n",
      "print(modify_list(lst))  # None\n",
      "print(lst)               # [1, 2, 3]\n",
      "modify_list(lst)\n",
      "print(lst)               # [1]"
     ],
     "language": "python",
     "metadata": {},
     "outputs": [
      {
       "output_type": "stream",
       "stream": "stdout",
       "text": [
        "None\n",
        "[1, 2, 3]\n",
        "[1]\n"
       ]
      }
     ],
     "prompt_number": 38
    },
    {
     "cell_type": "code",
     "collapsed": false,
     "input": [
      "# task from stepic course (3.2.5)\n",
      "\n",
      "\n",
      "def update_dictionary(d, key, value):\n",
      "    # put your python code here\n",
      "    if key in d:\n",
      "        d[key] += [value]\n",
      "    elif key * 2 in d:\n",
      "        d[key * 2] += [value]\n",
      "    else:\n",
      "        d[key * 2] = [value]\n",
      "\n",
      "d = {}\n",
      "print(update_dictionary(d, 1, -1))  # None\n",
      "print(d)                            # {2: [-1]}\n",
      "update_dictionary(d, 2, -2)\n",
      "print(d)                            # {2: [-1, -2]}\n",
      "update_dictionary(d, 1, -3)\n",
      "print(d)                            # {2: [-1, -2, -3]}"
     ],
     "language": "python",
     "metadata": {},
     "outputs": [
      {
       "output_type": "stream",
       "stream": "stdout",
       "text": [
        "None\n",
        "{2: [-1]}\n",
        "{2: [-1, -2]}\n",
        "{2: [-1, -2, -3]}\n"
       ]
      }
     ],
     "prompt_number": 42
    },
    {
     "cell_type": "code",
     "collapsed": false,
     "input": [
      "# task from stepic course (3.2.6)\n",
      "a = input().split()\n",
      "res = {}\n",
      "for i in range(len(a)):\n",
      "    str = a[i].lower()\n",
      "    if str in res.keys():\n",
      "        res[str] += 1\n",
      "    else:\n",
      "        res[str] = 1\n",
      "for key, value in res.items():\n",
      "    print(key, value)"
     ],
     "language": "python",
     "metadata": {},
     "outputs": [
      {
       "name": "stdout",
       "output_type": "stream",
       "stream": "stdout",
       "text": [
        "a A a\n"
       ]
      },
      {
       "output_type": "stream",
       "stream": "stdout",
       "text": [
        "a 3\n"
       ]
      }
     ],
     "prompt_number": 50
    },
    {
     "cell_type": "code",
     "collapsed": false,
     "input": [
      "# task from stepic course (3.2.7)\n",
      "def f(a):\n",
      "    return 2*a\n",
      "\n",
      "res = {}\n",
      "n = int(input())\n",
      "for i in range(n):\n",
      "    a = int(input())\n",
      "    if a in res.keys():\n",
      "        print(res[a])\n",
      "    else:\n",
      "        c = f(a)\n",
      "        print(c)\n",
      "        res[a] = c"
     ],
     "language": "python",
     "metadata": {},
     "outputs": [
      {
       "name": "stdout",
       "output_type": "stream",
       "stream": "stdout",
       "text": [
        "5\n"
       ]
      },
      {
       "name": "stdout",
       "output_type": "stream",
       "stream": "stdout",
       "text": [
        "5\n"
       ]
      },
      {
       "output_type": "stream",
       "stream": "stdout",
       "text": [
        "10\n"
       ]
      },
      {
       "name": "stdout",
       "output_type": "stream",
       "stream": "stdout",
       "text": [
        "12\n"
       ]
      },
      {
       "output_type": "stream",
       "stream": "stdout",
       "text": [
        "24\n"
       ]
      },
      {
       "name": "stdout",
       "output_type": "stream",
       "stream": "stdout",
       "text": [
        "9\n"
       ]
      },
      {
       "output_type": "stream",
       "stream": "stdout",
       "text": [
        "18\n"
       ]
      },
      {
       "name": "stdout",
       "output_type": "stream",
       "stream": "stdout",
       "text": [
        "20\n"
       ]
      },
      {
       "output_type": "stream",
       "stream": "stdout",
       "text": [
        "40\n"
       ]
      },
      {
       "name": "stdout",
       "output_type": "stream",
       "stream": "stdout",
       "text": [
        "12\n"
       ]
      },
      {
       "output_type": "stream",
       "stream": "stdout",
       "text": [
        "24\n"
       ]
      }
     ],
     "prompt_number": 54
    },
    {
     "cell_type": "code",
     "collapsed": false,
     "input": [
      "# task from stepic course(3.4.2)\n",
      "res = \"\"\n",
      "with open('test.in','r') as inf:\n",
      "    for line in inf:\n",
      "        line = line.strip()\n",
      "        line = input()\n",
      "        i = 0\n",
      "        while (i < len(line)):\n",
      "            c = line[i]\n",
      "            i += 1\n",
      "            count = 0\n",
      "            while (i < len(line) and '0' <= line[i] <= '9'):\n",
      "                count *= 10\n",
      "                count += int(line[i])\n",
      "                i += 1\n",
      "            res += c * count\n",
      "        print(res)"
     ],
     "language": "python",
     "metadata": {},
     "outputs": [
      {
       "ename": "AttributeError",
       "evalue": "'_io.TextIOWrapper' object has no attribute 'readLine'",
       "output_type": "pyerr",
       "traceback": [
        "\u001b[1;31m---------------------------------------------------------------------------\u001b[0m\n\u001b[1;31mAttributeError\u001b[0m                            Traceback (most recent call last)",
        "\u001b[1;32m<ipython-input-9-94b6b5eecc3b>\u001b[0m in \u001b[0;36m<module>\u001b[1;34m()\u001b[0m\n\u001b[0;32m      2\u001b[0m \u001b[0mres\u001b[0m \u001b[1;33m=\u001b[0m \u001b[1;34m\"\"\u001b[0m\u001b[1;33m\u001b[0m\u001b[0m\n\u001b[0;32m      3\u001b[0m \u001b[1;32mwith\u001b[0m \u001b[0mopen\u001b[0m\u001b[1;33m(\u001b[0m\u001b[1;34m'test.in'\u001b[0m\u001b[1;33m,\u001b[0m\u001b[1;34m'r'\u001b[0m\u001b[1;33m)\u001b[0m \u001b[1;32mas\u001b[0m \u001b[0minf\u001b[0m\u001b[1;33m:\u001b[0m\u001b[1;33m\u001b[0m\u001b[0m\n\u001b[1;32m----> 4\u001b[1;33m     \u001b[0mlines\u001b[0m \u001b[1;33m=\u001b[0m \u001b[0minf\u001b[0m\u001b[1;33m.\u001b[0m\u001b[0mreadLine\u001b[0m\u001b[1;33m(\u001b[0m\u001b[1;33m)\u001b[0m\u001b[1;33m\u001b[0m\u001b[0m\n\u001b[0m\u001b[0;32m      5\u001b[0m     \u001b[1;32mfor\u001b[0m \u001b[0mline\u001b[0m \u001b[1;32min\u001b[0m \u001b[0minf\u001b[0m\u001b[1;33m:\u001b[0m\u001b[1;33m\u001b[0m\u001b[0m\n\u001b[0;32m      6\u001b[0m         \u001b[0mline\u001b[0m \u001b[1;33m=\u001b[0m \u001b[0minf\u001b[0m\u001b[1;33m.\u001b[0m\u001b[0mreadLine\u001b[0m\u001b[1;33m(\u001b[0m\u001b[1;33m)\u001b[0m\u001b[1;33m.\u001b[0m\u001b[0mstrip\u001b[0m\u001b[1;33m(\u001b[0m\u001b[1;33m)\u001b[0m\u001b[1;33m\u001b[0m\u001b[0m\n",
        "\u001b[1;31mAttributeError\u001b[0m: '_io.TextIOWrapper' object has no attribute 'readLine'"
       ]
      }
     ],
     "prompt_number": 9
    },
    {
     "cell_type": "code",
     "collapsed": false,
     "input": [
      "# task from stepic course(3.4.2)\n",
      "line = input()\n",
      "i = 0\n",
      "c = ''\n",
      "res = \"\"\n",
      "while (i < len(line)):\n",
      "    c = line[i]\n",
      "    i += 1\n",
      "    count = 0\n",
      "    while (i < len(line) and '0' <= line[i] <= '9'):\n",
      "        count *= 10\n",
      "        count += int(line[i])\n",
      "        i += 1\n",
      "        \n",
      "    res += c * count\n",
      "print(res)"
     ],
     "language": "python",
     "metadata": {},
     "outputs": [
      {
       "name": "stdout",
       "output_type": "stream",
       "stream": "stdout",
       "text": [
        "f19U11r3D17y13A9g18r5x6r17o19p12V14E2r13E11r5W8Z6K18p7X2t20B20F4Z18V5b2x4z6t8S1D13r3s16S10L18i9W8L18s3V2Z15O10F18D17\n"
       ]
      },
      {
       "output_type": "stream",
       "stream": "stdout",
       "text": [
        "fffffffffffffffffffUUUUUUUUUUUrrrDDDDDDDDDDDDDDDDDyyyyyyyyyyyyyAAAAAAAAAggggggggggggggggggrrrrrxxxxxxrrrrrrrrrrrrrrrrroooooooooooooooooooppppppppppppVVVVVVVVVVVVVVEErrrrrrrrrrrrrEEEEEEEEEEErrrrrWWWWWWWWZZZZZZKKKKKKKKKKKKKKKKKKpppppppXXttttttttttttttttttttBBBBBBBBBBBBBBBBBBBBFFFFZZZZZZZZZZZZZZZZZZVVVVVbbxxxxzzzzzzttttttttSDDDDDDDDDDDDDrrrssssssssssssssssSSSSSSSSSSLLLLLLLLLLLLLLLLLLiiiiiiiiiWWWWWWWWLLLLLLLLLLLLLLLLLLsssVVZZZZZZZZZZZZZZZOOOOOOOOOOFFFFFFFFFFFFFFFFFFDDDDDDDDDDDDDDDDD\n"
       ]
      }
     ],
     "prompt_number": 11
    },
    {
     "cell_type": "code",
     "collapsed": false,
     "input": [
      "# task from stepic course(3.4.3)\n",
      "\n",
      "s = input().split()\n",
      "'''\n",
      "with open('test.in', 'r') as inf:\n",
      "    for line in inf:\n",
      "        line = line.strip()\n",
      "        s += [line.split()]\n",
      "'''\n",
      "print(s)\n",
      "ans = {}\n",
      "for line in s:\n",
      "    l = line.lower()\n",
      "    if l not in ans:\n",
      "        ans[l] = 1\n",
      "    else:\n",
      "        ans[l] += 1\n",
      "keys = \"\"\n",
      "maxi = 0\n",
      "print(ans)\n",
      "for key, value in ans.items():\n",
      "    if value > maxi:\n",
      "        keys = key\n",
      "        maxi = value\n",
      "    elif value == maxi and key < keys:\n",
      "        keys = key\n",
      "print(keys, maxi)"
     ],
     "language": "python",
     "metadata": {},
     "outputs": [
      {
       "name": "stdout",
       "output_type": "stream",
       "stream": "stdout",
       "text": [
        "cXcdc XbZYTT p cZU p a cXcdc cZc XXXTaTa Yd ZcYT dZpXcad ZZZUUXdb XZbT TTUYYX cYaUUbYZX TZTaTUpZb TTUYYX Za dZpXcad YYc TYpc TZcpUbpZY cYT Yd cdZTpXcYU XZ bU dTcpcUXYa cc UX bU XZbT XTX bYccd adZ TTZcX UTTcUTTY aZY UaYbbTZ aTcd pXZZTa U YZUYX U YZUYX aTcd dpa YpTYXadd XbUYUXXZ dTbXcapa TYUZ bUTYdYd Ub cXTbpbc YYa TUYdbZT aYaXY bUTYdYd cXTbpbc Ypcba Ub pdcadc cZaUUc pbpcpTp Z Yb TUaUZZddd Z YbYXTpZYX XYY bYcZXcY XYY YbYXTpZYX XUpZUp bdY XYY X ddTZp ZdaZX YbYXTpZYX ZpdZTaY ddY ZpYUaXpb Xabp ZpUUYX paUZXd ZpUUYX XUpZUp dXbXYZTbX dU a YbpcdbYZ Zpa Y UYdacpcbb aZapbTU TdZa Y YZTdU ppTabcU TZdcad dTbTpd ZdcYpXTcT cpXX ppdYaX aZXU d UcZ Y ZY T UXpZaX TpYcabd ca bcU pXXTX pXZd c c c acUUTX UTc TZXU TZXU XZZbUp Z TdUc TZXU ccZcUXpap cbpbU Z c TUYTa d cZUaYad TZXU UbccZYa YZUYdTXd c UTc cZUaYad XY TZXU YbT ccZcUXpap d caYYcb b YYdacYd YbTZ ZZU XYZdcdY XZU dXdc X YbTZ YZXb TYUbUYY dXdc U Y ZY baapbcdaa baapbcdaa d dacUUX pYUUT dTUaaU pYUUT dpa cdbXpcUpp pYUUT dacUUX TdZ dpa dacUUX dZXXbd TXYdUT p UppXpdp p TdZ ZbdbUaX d d dYbX p TdaTdXYp TdZ pYUUT pUc YZaddc UppXpdp a dpa p ZXYT dpa YZaddc XZXXbTX pYUdpZ aXXpppb bYY dYY UdXUcabTY U p Yb aaXTYbdTp p p TdUXddccp XY dXUbaT aaXTYbdTp Xb TdUXddccp ZTp aaXTYbdTp Y pbX apaYUbb dbda abUYpbTX d TabaTUpc c cpcdbXcUZ dbda p YacYTcUpa dTbcUpYT bYdUabZUc Tdca X dUZXUZc XZ TZ UbcTcYb dUZXUZc XZZabb c T UYTpTbcTX UYTpTbcTX Z ZpUXcYcYX pbcZpUYp bYbdbZc bb TcYXTdpd YpXZp ZccXZ TddZdYUXa UYTpTbcTX ZpUXcYcYX YTZapTZYp bp YUZZdY acUbUpdb Udd d pTUabdXd Y ZTUpZ bddddp UppYdpa XTUcd TbTcaZXa TbTcaZXa UYpUYbXp UppYdpa YcXaTZXY c pXaaccU c TbTcaZXa UppYdpa dYUXaYaU XaXcUTc dpcaYp dpcaYp ppaZZdZ cpbUTcY UpUTUaYU XaXcUTc ZdpTbadZd XTUcd TacaY bXUcTX bXXaaZ XTpbpdb ccaT TUaUUpp UYpZpabda cUbcadUa bpT cpbUTcY UYpUYbXp XaXcUTc UTb YTTTUXb dUpUT dcddbbp dpcaYp aYpcp ddU XaXcUTc pc pTX XTpbpdb UppYdpa ddU ppaZZdZ Z dpcaYp XXT baZbZUb ZU Tccc Tccc daddUU Tccc Tccc TpXXUdYYa Y daddUU cYaaYT YY cTTYbd YY XU cTT ccbYp YY ZZUXpY cTTYbd cUXcdbYZd Tccc ZZUXpY cYaaYT bU ZZXYa apTpbp Xpa UdXpbd ZYpaa UdYXZdpbX UdYXZdpbX db Tb Tc TaZYZcT aZT Yd aZT UUpadZYaT YdpU UTTXUTb Yp YdpU T adc cY b bXTYbUcY cY ZXYTZTpc X Udd ZaX bXTYbUcY UbbppTpTd ad X Udd Udd ZacaYppU YdpU Xc bXpccUZZ Udd bYcTZUT b cY aYcXY TTYUp badYUaZ U bcbYZaaYT YpUUcT TXa Udd bbZ YdpU bYcTZUT pY bXpccUZZ d d d pbdp d TZ a TZ YZTUXXYZT Ub p d ZbXabbcZd pdpa d ZbdU daYpbpbc XX XcT XcdXZX aUZXdTXZT cdTZZU cbYa YUX a YYY Ud Yaadpdc YYU pbb c Z c bcUpddpda Z Yaadpdc pcYUp a acdXbUTTa acdXbUTTa bY acdXbUTTa YYU aU cadTaddTX c XXZTbU bcdcdY bcdcdY bcdcdY bTpXYTc bTpXYTc YYaZ UZTcUXbUp adYYpaY cZb cab dcbaaZYcc YbXXZUbX YZUpYZYZ bTpXYTc YZUpYZYZ bcdcdY YZUpYZYZ YbZUXTZXZ UYU YYaZ XcbpTpcZc bcdcdY ccZZXZX bcpTY cZb UZTcUXbUp dcbaaZYcc UaZYTpT cZb cZb TZbaXTcX TbXbp Tdp TTc aTUX XbUcUTYd d b pY UappaU apUpdXUTZ cZd cYZdZ UXUTb cUXZ UXUTb ZXbbbXac pXZpTaX Zc Y Zc dc cTdb aTa YaZbXTcZZ cUXZ UXUTb UXUTb acbbTXUY bcUYUppTb cYZdZ aTa p dd bcUYUppTb p bcUYUppTb cUXZ bcUYUppTb ZZpcbbpT acpZb pcUYZd UXUTb Ydpadppdb UXUTb ca cZbaYdTT bcUYUppTb TcdXYUU pZabpc cXdTUU d TapZZ cZUccUp aYpbXUYXc UXUTb cdU ZUcTZpXU bcUYUppTb dc Xpdcp cpp YdTa\n"
       ]
      },
      {
       "output_type": "stream",
       "stream": "stdout",
       "text": [
        "['cXcdc', 'XbZYTT', 'p', 'cZU', 'p', 'a', 'cXcdc', 'cZc', 'XXXTaTa', 'Yd', 'ZcYT', 'dZpXcad', 'ZZZUUXdb', 'XZbT', 'TTUYYX', 'cYaUUbYZX', 'TZTaTUpZb', 'TTUYYX', 'Za', 'dZpXcad', 'YYc', 'TYpc', 'TZcpUbpZY', 'cYT', 'Yd', 'cdZTpXcYU', 'XZ', 'bU', 'dTcpcUXYa', 'cc', 'UX', 'bU', 'XZbT', 'XTX', 'bYccd', 'adZ', 'TTZcX', 'UTTcUTTY', 'aZY', 'UaYbbTZ', 'aTcd', 'pXZZTa', 'U', 'YZUYX', 'U', 'YZUYX', 'aTcd', 'dpa', 'YpTYXadd', 'XbUYUXXZ', 'dTbXcapa', 'TYUZ', 'bUTYdYd', 'Ub', 'cXTbpbc', 'YYa', 'TUYdbZT', 'aYaXY', 'bUTYdYd', 'cXTbpbc', 'Ypcba', 'Ub', 'pdcadc', 'cZaUUc', 'pbpcpTp', 'Z', 'Yb', 'TUaUZZddd', 'Z', 'YbYXTpZYX', 'XYY', 'bYcZXcY', 'XYY', 'YbYXTpZYX', 'XUpZUp', 'bdY', 'XYY', 'X', 'ddTZp', 'ZdaZX', 'YbYXTpZYX', 'ZpdZTaY', 'ddY', 'ZpYUaXpb', 'Xabp', 'ZpUUYX', 'paUZXd', 'ZpUUYX', 'XUpZUp', 'dXbXYZTbX', 'dU', 'a', 'YbpcdbYZ', 'Zpa', 'Y', 'UYdacpcbb', 'aZapbTU', 'TdZa', 'Y', 'YZTdU', 'ppTabcU', 'TZdcad', 'dTbTpd', 'ZdcYpXTcT', 'cpXX', 'ppdYaX', 'aZXU', 'd', 'UcZ', 'Y', 'ZY', 'T', 'UXpZaX', 'TpYcabd', 'ca', 'bcU', 'pXXTX', 'pXZd', 'c', 'c', 'c', 'acUUTX', 'UTc', 'TZXU', 'TZXU', 'XZZbUp', 'Z', 'TdUc', 'TZXU', 'ccZcUXpap', 'cbpbU', 'Z', 'c', 'TUYTa', 'd', 'cZUaYad', 'TZXU', 'UbccZYa', 'YZUYdTXd', 'c', 'UTc', 'cZUaYad', 'XY', 'TZXU', 'YbT', 'ccZcUXpap', 'd', 'caYYcb', 'b', 'YYdacYd', 'YbTZ', 'ZZU', 'XYZdcdY', 'XZU', 'dXdc', 'X', 'YbTZ', 'YZXb', 'TYUbUYY', 'dXdc', 'U', 'Y', 'ZY', 'baapbcdaa', 'baapbcdaa', 'd', 'dacUUX', 'pYUUT', 'dTUaaU', 'pYUUT', 'dpa', 'cdbXpcUpp', 'pYUUT', 'dacUUX', 'TdZ', 'dpa', 'dacUUX', 'dZXXbd', 'TXYdUT', 'p', 'UppXpdp', 'p', 'TdZ', 'ZbdbUaX', 'd', 'd', 'dYbX', 'p', 'TdaTdXYp', 'TdZ', 'pYUUT', 'pUc', 'YZaddc', 'UppXpdp', 'a', 'dpa', 'p', 'ZXYT', 'dpa', 'YZaddc', 'XZXXbTX', 'pYUdpZ', 'aXXpppb', 'bYY', 'dYY', 'UdXUcabTY', 'U', 'p', 'Yb', 'aaXTYbdTp', 'p', 'p', 'TdUXddccp', 'XY', 'dXUbaT', 'aaXTYbdTp', 'Xb', 'TdUXddccp', 'ZTp', 'aaXTYbdTp', 'Y', 'pbX', 'apaYUbb', 'dbda', 'abUYpbTX', 'd', 'TabaTUpc', 'c', 'cpcdbXcUZ', 'dbda', 'p', 'YacYTcUpa', 'dTbcUpYT', 'bYdUabZUc', 'Tdca', 'X', 'dUZXUZc', 'XZ', 'TZ', 'UbcTcYb', 'dUZXUZc', 'XZZabb', 'c', 'T', 'UYTpTbcTX', 'UYTpTbcTX', 'Z', 'ZpUXcYcYX', 'pbcZpUYp', 'bYbdbZc', 'bb', 'TcYXTdpd', 'YpXZp', 'ZccXZ', 'TddZdYUXa', 'UYTpTbcTX', 'ZpUXcYcYX', 'YTZapTZYp', 'bp', 'YUZZdY', 'acUbUpdb', 'Udd', 'd', 'pTUabdXd', 'Y', 'ZTUpZ', 'bddddp', 'UppYdpa', 'XTUcd', 'TbTcaZXa', 'TbTcaZXa', 'UYpUYbXp', 'UppYdpa', 'YcXaTZXY', 'c', 'pXaaccU', 'c', 'TbTcaZXa', 'UppYdpa', 'dYUXaYaU', 'XaXcUTc', 'dpcaYp', 'dpcaYp', 'ppaZZdZ', 'cpbUTcY', 'UpUTUaYU', 'XaXcUTc', 'ZdpTbadZd', 'XTUcd', 'TacaY', 'bXUcTX', 'bXXaaZ', 'XTpbpdb', 'ccaT', 'TUaUUpp', 'UYpZpabda', 'cUbcadUa', 'bpT', 'cpbUTcY', 'UYpUYbXp', 'XaXcUTc', 'UTb', 'YTTTUXb', 'dUpUT', 'dcddbbp', 'dpcaYp', 'aYpcp', 'ddU', 'XaXcUTc', 'pc', 'pTX', 'XTpbpdb', 'UppYdpa', 'ddU', 'ppaZZdZ', 'Z', 'dpcaYp', 'XXT', 'baZbZUb', 'ZU', 'Tccc', 'Tccc', 'daddUU', 'Tccc', 'Tccc', 'TpXXUdYYa', 'Y', 'daddUU', 'cYaaYT', 'YY', 'cTTYbd', 'YY', 'XU', 'cTT', 'ccbYp', 'YY', 'ZZUXpY', 'cTTYbd', 'cUXcdbYZd', 'Tccc', 'ZZUXpY', 'cYaaYT', 'bU', 'ZZXYa', 'apTpbp', 'Xpa', 'UdXpbd', 'ZYpaa', 'UdYXZdpbX', 'UdYXZdpbX', 'db', 'Tb', 'Tc', 'TaZYZcT', 'aZT', 'Yd', 'aZT', 'UUpadZYaT', 'YdpU', 'UTTXUTb', 'Yp', 'YdpU', 'T', 'adc', 'cY', 'b', 'bXTYbUcY', 'cY', 'ZXYTZTpc', 'X', 'Udd', 'ZaX', 'bXTYbUcY', 'UbbppTpTd', 'ad', 'X', 'Udd', 'Udd', 'ZacaYppU', 'YdpU', 'Xc', 'bXpccUZZ', 'Udd', 'bYcTZUT', 'b', 'cY', 'aYcXY', 'TTYUp', 'badYUaZ', 'U', 'bcbYZaaYT', 'YpUUcT', 'TXa', 'Udd', 'bbZ', 'YdpU', 'bYcTZUT', 'pY', 'bXpccUZZ', 'd', 'd', 'd', 'pbdp', 'd', 'TZ', 'a', 'TZ', 'YZTUXXYZT', 'Ub', 'p', 'd', 'ZbXabbcZd', 'pdpa', 'd', 'ZbdU', 'daYpbpbc', 'XX', 'XcT', 'XcdXZX', 'aUZXdTXZT', 'cdTZZU', 'cbYa', 'YUX', 'a', 'YYY', 'Ud', 'Yaadpdc', 'YYU', 'pbb', 'c', 'Z', 'c', 'bcUpddpda', 'Z', 'Yaadpdc', 'pcYUp', 'a', 'acdXbUTTa', 'acdXbUTTa', 'bY', 'acdXbUTTa', 'YYU', 'aU', 'cadTaddTX', 'c', 'XXZTbU', 'bcdcdY', 'bcdcdY', 'bcdcdY', 'bTpXYTc', 'bTpXYTc', 'YYaZ', 'UZTcUXbUp', 'adYYpaY', 'cZb', 'cab', 'dcbaaZYcc', 'YbXXZUbX', 'YZUpYZYZ', 'bTpXYTc', 'YZUpYZYZ', 'bcdcdY', 'YZUpYZYZ', 'YbZUXTZXZ', 'UYU', 'YYaZ', 'XcbpTpcZc', 'bcdcdY', 'ccZZXZX', 'bcpTY', 'cZb', 'UZTcUXbUp', 'dcbaaZYcc', 'UaZYTpT', 'cZb', 'cZb', 'TZbaXTcX', 'TbXbp', 'Tdp', 'TTc', 'aTUX', 'XbUcUTYd', 'd', 'b', 'pY', 'UappaU', 'apUpdXUTZ', 'cZd', 'cYZdZ', 'UXUTb', 'cUXZ', 'UXUTb', 'ZXbbbXac', 'pXZpTaX', 'Zc', 'Y', 'Zc', 'dc', 'cTdb', 'aTa', 'YaZbXTcZZ', 'cUXZ', 'UXUTb', 'UXUTb', 'acbbTXUY', 'bcUYUppTb', 'cYZdZ', 'aTa', 'p', 'dd', 'bcUYUppTb', 'p', 'bcUYUppTb', 'cUXZ', 'bcUYUppTb', 'ZZpcbbpT', 'acpZb', 'pcUYZd', 'UXUTb', 'Ydpadppdb', 'UXUTb', 'ca', 'cZbaYdTT', 'bcUYUppTb', 'TcdXYUU', 'pZabpc', 'cXdTUU', 'd', 'TapZZ', 'cZUccUp', 'aYpbXUYXc', 'UXUTb', 'cdU', 'ZUcTZpXU', 'bcUYUppTb', 'dc', 'Xpdcp', 'cpp', 'YdTa']\n",
        "{'au': 1, 'uypzpabda': 1, 'dpa': 5, 'ptuabdxd': 1, 'czuayad': 2, 'pcuyzd': 1, 'ytzaptzyp': 1, 'xcbptpczc': 1, 'yyc': 1, 'uztcuxbup': 2, 'yzuydtxd': 1, 'yztuxxyzt': 1, 'tzdcad': 1, 'ttyup': 1, 'tbxbp': 1, 'yzuyx': 2, 'bu': 3, 'zpa': 1, 'yzxb': 1, 'cpxx': 1, 'ydpu': 4, 'yb': 2, 'bcuyupptb': 6, 'x': 5, 'y': 8, 'cyzdz': 2, 'xc': 1, 'butydyd': 2, 'dcbaazycc': 2, 'dpcayp': 4, 'ztp': 1, 'tzbaxtcx': 1, 'cyt': 1, 'tacay': 1, 'aptpbp': 1, 'pbb': 1, 'bb': 1, 'puc': 1, 'du': 1, 'tb': 1, 'cdu': 1, 'cttybd': 2, 'dd': 1, 'z': 8, 'yztdu': 1, 'zpdztay': 1, 'yyy': 1, 'ybt': 1, 'uypuybxp': 2, 'yptyxadd': 1, 'ca': 2, 'xxxtata': 1, 'p': 13, 'xbzytt': 1, 'xcdxzx': 1, 'byctzut': 2, 'aypbxuyxc': 1, 'ybtz': 2, 'xzzbup': 1, 'zcyt': 1, 'czu': 1, 'pbx': 1, 'ctt': 1, 'bxxaaz': 1, 'dzxxbd': 1, 'cdztpxcyu': 1, 'zuctzpxu': 1, 'tuauupp': 1, 'zpyuaxpb': 1, 'tbtcazxa': 3, 'ppazzdz': 2, 'czc': 1, 'zdazx': 1, 'ub': 3, 'daypbpbc': 1, 'czbaydtt': 1, 'cpp': 1, 'czd': 1, 'yya': 1, 'tazyzct': 1, 'by': 1, 'xpa': 1, 'pxaaccu': 1, 'ztupz': 1, 'cc': 1, 'zpuxcycyx': 2, 'azxu': 1, 'zacayppu': 1, 'yy': 3, 'cpbutcy': 2, 'ttzcx': 1, 'uppxpdp': 2, 'czb': 4, 'yyaz': 2, 'tcdxyuu': 1, 'pxxtx': 1, 'bybdbzc': 1, 'udd': 6, 'xabp': 1, 'uttcutty': 1, 'uyu': 1, 'xpdcp': 1, 'udyxzdpbx': 2, 'abuypbtx': 1, 'tuyta': 1, 'ttc': 1, 'yacytcupa': 1, 'uppydpa': 4, 'duput': 1, 'tzcpubpzy': 1, 'ata': 2, 'tuydbzt': 1, 'ubbpptptd': 1, 'dybx': 1, 'tpxxudyya': 1, 'ayaxy': 1, 'xct': 1, 'pc': 1, 'xtpbpdb': 2, 'tddzdyuxa': 1, 'btpxytc': 3, 'yyu': 2, 'bp': 1, 'baapbcdaa': 2, 'czauuc': 1, 'uttxutb': 1, 'b': 4, 'xz': 2, 'azapbtu': 1, 'dc': 2, 'cdbxpcupp': 1, 'txa': 1, 'cczzxzx': 1, 'tyubuyy': 1, 'uxpzax': 1, 'zxytztpc': 1, 'yazbxtczz': 1, 'cbya': 1, 'pyudpz': 1, 'pxzptax': 1, 'pptabcu': 1, 'xzbt': 2, 'dtbxcapa': 1, 'cadtaddtx': 1, 'pxzd': 1, 'ydpadppdb': 1, 'adz': 1, 'zpuuyx': 2, 'dyuxayau': 1, 'tuauzzddd': 1, 'acpzb': 1, 'byduabzuc': 1, 'yd': 3, 'tc': 1, 'pauzxd': 1, 'tdz': 3, 'uappau': 1, 'bcupddpda': 1, 'dxbxyztbx': 1, 'xzu': 1, 'pyuut': 4, 'ypxzp': 1, 'ux': 1, 'dtbtpd': 1, 'badyuaz': 1, 'dadduu': 2, 'bbz': 1, 'xb': 1, 'xu': 1, 'tztatupzb': 1, 'xaxcutc': 4, 'uupadzyat': 1, 'dzpxcad': 2, 'u': 5, 'pdcadc': 1, 'a': 6, 'bazbzub': 1, 'xyy': 3, 'zccxz': 1, 'dacuux': 3, 'cxtbpbc': 2, 'czuccup': 1, 't': 3, 'tduxddccp': 2, 'ptx': 1, 'acubupdb': 1, 'ddu': 2, 'db': 1, 'ddy': 1, 'zzzuuxdb': 1, 'cpcdbxcuz': 1, 'bcdcdy': 5, 'xyzdcdy': 1, 'axxpppb': 1, 'ytttuxb': 1, 'xbucutyd': 1, 'adyypay': 1, 'bpt': 1, 'xzxxbtx': 1, 'zzxya': 1, 'zxbbbxac': 1, 'uazytpt': 1, 'py': 2, 'xzzabb': 1, 'ddtzp': 1, 'atcd': 2, 'xx': 1, 'ucz': 1, 'd': 16, 'tz': 3, 'ad': 1, 'tyuz': 1, 'aycxy': 1, 'aypcp': 1, 'cyaayt': 2, 'xxt': 1, 'ccbyp': 1, 'azt': 2, 'bdy': 1, 'pcyup': 1, 'uxutb': 7, 'ppdyax': 1, 'tccc': 5, 'azy': 1, 'atux': 1, 'ydta': 1, 'bxuctx': 1, 'zdptbadzd': 1, 'ubcczya': 1, 'zdcypxtct': 1, 'yydacyd': 1, 'cbpbu': 1, 'ud': 1, 'uputuayu': 1, 'cubcadua': 1, 'za': 1, 'tpycabd': 1, 'ccat': 1, 'yzupyzyz': 3, 'zax': 1, 'tdza': 1, 'pzabpc': 1, 'tdp': 1, 'byccd': 1, 'dcddbbp': 1, 'auzxdtxzt': 1, 'bcbyzaayt': 1, 'acbbtxuy': 1, 'tapzz': 1, 'cczcuxpap': 2, 'xy': 2, 'dtcpcuxya': 1, 'cdtzzu': 1, 'ybxxzubx': 1, 'xupzup': 2, 'byczxcy': 1, 'tdca': 1, 'yaadpdc': 2, 'zbdu': 1, 'tcyxtdpd': 1, 'dtuaau': 1, 'c': 12, 'xbuyuxxz': 1, 'bxtybucy': 2, 'ubctcyb': 1, 'utb': 1, 'apayubb': 1, 'pbpcptp': 1, 'pbdp': 1, 'tabatupc': 1, 'acuutx': 1, 'cuxcdbyzd': 1, 'duzxuzc': 2, 'zbdbuax': 1, 'zxyt': 1, 'bcpty': 1, 'zc': 2, 'bxpccuzz': 2, 'bddddp': 1, 'cy': 3, 'apupdxutz': 1, 'utc': 2, 'acdxbutta': 3, 'dbda': 2, 'ttuyyx': 2, 'ybpcdbyz': 1, 'cuxz': 3, 'cyauubyzx': 1, 'cxcdc': 2, 'uytptbctx': 3, 'zbxabbczd': 1, 'yuzzdy': 1, 'pxzzta': 1, 'pbczpuyp': 1, 'ycxatzxy': 1, 'dyy': 1, 'cxdtuu': 1, 'dxdc': 2, 'zzu': 1, 'zy': 2, 'xtucd': 2, 'ypuuct': 1, 'xxztbu': 1, 'xtx': 1, 'tzxu': 5, 'dtbcupyt': 1, 'yzaddc': 2, 'zu': 1, 'uydacpcbb': 1, 'typc': 1, 'txydut': 1, 'pdpa': 1, 'zypaa': 1, 'yux': 1, 'byy': 1, 'ypcba': 1, 'cayycb': 1, 'zzpcbbpt': 1, 'ctdb': 1, 'adc': 1, 'dxubat': 1, 'udxpbd': 1, 'tdatdxyp': 1, 'zzuxpy': 2, 'aaxtybdtp': 3, 'bcu': 1, 'udxucabty': 1, 'ybzuxtzxz': 1, 'tduc': 1, 'cab': 1, 'yp': 1, 'ybyxtpzyx': 3, 'uaybbtz': 1}\n",
        "d 16\n"
       ]
      }
     ],
     "prompt_number": 9
    },
    {
     "cell_type": "code",
     "collapsed": false,
     "input": [
      "#task from stepic course (3.5.2)\n",
      "\n",
      "import math\n",
      "\n",
      "r = float(input())\n",
      "\n",
      "print(2.0 * math.pi * r)"
     ],
     "language": "python",
     "metadata": {},
     "outputs": [],
     "prompt_number": 1
    },
    {
     "cell_type": "code",
     "collapsed": false,
     "input": [
      "#task from stepic course (3.5.2)\n",
      "\n",
      "import sys\n",
      "for arg in sys.argv():\n",
      "    print(arg, end = \" \")"
     ],
     "language": "python",
     "metadata": {},
     "outputs": [
      {
       "output_type": "stream",
       "stream": "stdout",
       "text": [
        "-c -f /user_home/w_glazatkina/.ipython/profile_default/security/kernel-60beb177-d0d9-4ca8-9f03-bcbee9e36a9e.json --pylab=inline --NotebookApp.password=sha1:d4b6d9e5ebae8be6cc70f6baa9b1a4db3342c03c:a3b791ba8f3a2bac5d4b19b839ee4e8fabda1d7e --NotebookApp.crossdomain=*wakari.io --IPKernelApp.parent_appname='ipython-notebook' --profile-dir /user_home/w_glazatkina/.ipython/profile_default --parent=1 "
       ]
      }
     ],
     "prompt_number": 1
    },
    {
     "cell_type": "code",
     "collapsed": false,
     "input": [
      "# task from stepic course (3.6.2)\n",
      "\n",
      "import requests\n",
      "'''\n",
      "inf = open('test.in','r')\n",
      "url = inf.readline().strip()\n",
      "print(url)\n",
      "inf.close()\n",
      "'''\n",
      "r = requests.get('https://stepic.org/media/attachments/course67/3.6.2/168.txt')\n",
      "print(r.text)\n",
      "ans = r.text.splitlines()\n",
      "print(ans)\n",
      "print(len(ans))\n"
     ],
     "language": "python",
     "metadata": {},
     "outputs": []
    },
    {
     "cell_type": "code",
     "collapsed": false,
     "input": [
      "# task from stepic course (3.6.3)\n",
      "\n",
      "import requests\n",
      "url = 'https://stepic.org/media/attachments/course67/3.6.3/699991.txt'\n",
      "r = requests.get(url)\n",
      "ans = r.text.split()\n",
      "print(r.text)\n",
      "if (ans[0] != 'We'):\n",
      "    while True:\n",
      "        print(r.text)\n",
      "        url = 'https://stepic.org/media/attachments/course67/3.6.3/'\n",
      "        url += r.text.strip()\n",
      "        r = requests.get(url)\n",
      "        print(r.text)\n",
      "        ans = r.text.split()\n",
      "        if (ans[0] == 'We'):\n",
      "            print(ans)\n",
      "            print(r.text)\n",
      "            break\n",
      "else:\n",
      "    print(r.text)"
     ],
     "language": "python",
     "metadata": {},
     "outputs": []
    },
    {
     "cell_type": "code",
     "collapsed": false,
     "input": [
      "# task from stepic course (3.7.1)\n",
      "\n",
      "n = int(input())\n",
      "ans = {}\n",
      "al = {}\n",
      "win = {}\n",
      "nobody = {}\n",
      "loses = {}\n",
      "for i in range(n):\n",
      "    res = input().split(';')\n",
      "    if int(res[1]) > int(res[3]):\n",
      "        res[1] = 3\n",
      "        res[3] = 0\n",
      "    elif int(res[1]) < int(res[3]):\n",
      "        res[1] = 0\n",
      "        res[3] = 3\n",
      "    else:\n",
      "        res[1] = 1\n",
      "        res[3] = 1\n",
      "    if res[0] in ans.keys():\n",
      "        ans[res[0]] += res[1]\n",
      "        al[res[0]] += 1\n",
      "        if (res[1] == 3):\n",
      "            win[res[0]] += 1\n",
      "        elif (res[1] == 1):\n",
      "            nobody[res[0]] += 1\n",
      "        else:\n",
      "            loses[res[0]] += 1\n",
      "    else:\n",
      "        ans[res[0]] = res[1]\n",
      "        al[res[0]] = 1\n",
      "        win[res[0]] = 0\n",
      "        nobody[res[0]] = 0\n",
      "        loses[res[0]] = 0\n",
      "        if (res[1] == 3):\n",
      "            win[res[0]] = 1\n",
      "        elif (res[1] == 1):\n",
      "            nobody[res[0]] = 1\n",
      "        else:\n",
      "            loses[res[0]] = 1\n",
      "    if res[2] in ans.keys():\n",
      "        ans[res[2]] += res[3]\n",
      "        al[res[2]] += 1\n",
      "        if (res[3] == 3):\n",
      "            win[res[2]] += 1\n",
      "        elif (res[3] == 1):\n",
      "            nobody[res[2]] += 1\n",
      "        else:\n",
      "            loses[res[2]] += 1\n",
      "    else:\n",
      "        ans[res[2]] = res[3]\n",
      "        al[res[2]] = 1\n",
      "        win[res[2]] = 0\n",
      "        nobody[res[2]] = 0\n",
      "        loses[res[2]] = 0\n",
      "        if (res[3] == 3):\n",
      "            win[res[2]] = 1\n",
      "        elif (res[3] == 1):\n",
      "            nobody[res[2]] = 1\n",
      "        else:\n",
      "            loses[res[2]] = 1\n",
      "            \n",
      "for com in ans.keys():\n",
      "\n",
      "    print(com, end = ':')\n",
      "    print(al[com], win[com], nobody[com], loses[com], ans[com])"
     ],
     "language": "python",
     "metadata": {},
     "outputs": [
      {
       "name": "stdout",
       "output_type": "stream",
       "stream": "stdout",
       "text": [
        "3\n"
       ]
      },
      {
       "name": "stdout",
       "output_type": "stream",
       "stream": "stdout",
       "text": [
        "\u0417\u0435\u043d\u0438\u0442;3;\u0421\u043f\u0430\u0440\u0442\u0430\u043a;1\n"
       ]
      },
      {
       "name": "stdout",
       "output_type": "stream",
       "stream": "stdout",
       "text": [
        "\u0421\u043f\u0430\u0440\u0442\u0430\u043a;1;\u0426\u0421\u041a\u0410;1\n"
       ]
      },
      {
       "name": "stdout",
       "output_type": "stream",
       "stream": "stdout",
       "text": [
        "\u0426\u0421\u041a\u0410;0;\u0417\u0435\u043d\u0438\u0442;2\n"
       ]
      },
      {
       "output_type": "stream",
       "stream": "stdout",
       "text": [
        "\u0426\u0421\u041a\u0410:2 0 1 1 1\n",
        "\u0421\u043f\u0430\u0440\u0442\u0430\u043a:2 0 1 1 1\n",
        "\u0417\u0435\u043d\u0438\u0442:2 2 0 0 6\n"
       ]
      }
     ],
     "prompt_number": 3
    },
    {
     "cell_type": "code",
     "collapsed": false,
     "input": [
      "#task from stepic course (3.7.2)\n",
      "\n",
      "str1 = input()\n",
      "codes = {}\n",
      "codes2 = {}\n",
      "str2 = input()\n",
      "for i in range(len(str2)):\n",
      "    codes[str1[i]] = str2[i]\n",
      "    codes2[str2[i]] = str1[i]\n",
      "    \n",
      "str1 = input()\n",
      "for i in range(len(str1)):\n",
      "    print(codes[str1[i]], end = '')\n",
      "    \n",
      "str2 = input()\n",
      "print()\n",
      "for i in range(len(str2)):\n",
      "    print(codes2[str2[i]],end='')"
     ],
     "language": "python",
     "metadata": {},
     "outputs": [
      {
       "name": "stdout",
       "output_type": "stream",
       "stream": "stdout",
       "text": [
        "dcba\n"
       ]
      },
      {
       "name": "stdout",
       "output_type": "stream",
       "stream": "stdout",
       "text": [
        "badc\n"
       ]
      },
      {
       "name": "stdout",
       "output_type": "stream",
       "stream": "stdout",
       "text": [
        "dcba\n"
       ]
      },
      {
       "output_type": "stream",
       "stream": "stdout",
       "text": [
        "badc"
       ]
      },
      {
       "name": "stdout",
       "output_type": "stream",
       "stream": "stdout",
       "text": [
        "badc\n"
       ]
      },
      {
       "output_type": "stream",
       "stream": "stdout",
       "text": [
        "\n",
        "dcba"
       ]
      }
     ],
     "prompt_number": 6
    },
    {
     "cell_type": "code",
     "collapsed": false,
     "input": [
      "# task from stepic course (3.7.3)\n",
      "d = int(input())\n",
      "a = []\n",
      "for i in range(d):\n",
      "    a += [str(input()).lower()]\n",
      "l = int(input())\n",
      "s = set()\n",
      "for i in range(l):\n",
      "    string = input().split()\n",
      "    for j in range(len(string)):\n",
      "        test = string[j].lower()\n",
      "        if test not in a:\n",
      "            s.add(test)\n",
      "\n",
      "for i in s:\n",
      "    print(i)"
     ],
     "language": "python",
     "metadata": {},
     "outputs": [
      {
       "name": "stdout",
       "output_type": "stream",
       "stream": "stdout",
       "text": [
        "3\n"
       ]
      },
      {
       "name": "stdout",
       "output_type": "stream",
       "stream": "stdout",
       "text": [
        "a\n"
       ]
      },
      {
       "name": "stdout",
       "output_type": "stream",
       "stream": "stdout",
       "text": [
        "bb\n"
       ]
      },
      {
       "name": "stdout",
       "output_type": "stream",
       "stream": "stdout",
       "text": [
        "ccc\n"
       ]
      },
      {
       "name": "stdout",
       "output_type": "stream",
       "stream": "stdout",
       "text": [
        "2\n"
       ]
      },
      {
       "name": "stdout",
       "output_type": "stream",
       "stream": "stdout",
       "text": [
        "a bb aab aba ccc\n"
       ]
      },
      {
       "output_type": "stream",
       "stream": "stdout",
       "text": [
        "['a', 'bb', 'aab', 'aba', 'ccc']\n"
       ]
      },
      {
       "name": "stdout",
       "output_type": "stream",
       "stream": "stdout",
       "text": [
        "c bb aaa\n"
       ]
      },
      {
       "output_type": "stream",
       "stream": "stdout",
       "text": [
        "['c', 'bb', 'aaa']\n",
        "aba\n",
        "aab\n",
        "c\n",
        "aaa\n"
       ]
      }
     ],
     "prompt_number": 14
    },
    {
     "cell_type": "code",
     "collapsed": false,
     "input": [
      "# task from stepic course (3.7.4)\n",
      "\n",
      "n = int(input())\n",
      "x = 0\n",
      "y = 0\n",
      "for i in range(n):\n",
      "    s = input().split()\n",
      "    if s[0] == '\u0441\u0435\u0432\u0435\u0440':\n",
      "        y += int(s[1])\n",
      "    elif s[0] == '\u044e\u0433':\n",
      "        y -= int(s[1])\n",
      "    elif s[0] == '\u0437\u0430\u043f\u0430\u0434':\n",
      "        x -= int(s[1])\n",
      "    else:\n",
      "        x += int(s[1])\n",
      "print(x,y)"
     ],
     "language": "python",
     "metadata": {},
     "outputs": [
      {
       "name": "stdout",
       "output_type": "stream",
       "stream": "stdout",
       "text": [
        "4\n"
       ]
      },
      {
       "name": "stdout",
       "output_type": "stream",
       "stream": "stdout",
       "text": [
        "\u0441\u0435\u0432\u0435\u0440 10\n"
       ]
      },
      {
       "name": "stdout",
       "output_type": "stream",
       "stream": "stdout",
       "text": [
        "\u0437\u0430\u043f\u0430\u0434 20\n"
       ]
      },
      {
       "name": "stdout",
       "output_type": "stream",
       "stream": "stdout",
       "text": [
        "\u044e\u0433 30\n"
       ]
      },
      {
       "name": "stdout",
       "output_type": "stream",
       "stream": "stdout",
       "text": [
        "\u0432\u043e\u0441\u0442\u043e\u043a 40\n"
       ]
      },
      {
       "output_type": "stream",
       "stream": "stdout",
       "text": [
        "20 -20\n"
       ]
      }
     ],
     "prompt_number": 15
    },
    {
     "cell_type": "code",
     "collapsed": false,
     "input": [
      "# task from stepic course (3.7.5)\n",
      "\n",
      "summ = {}\n",
      "count = {}\n",
      "\n",
      "with open('','r') as inf:\n",
      "    for line in inf:\n",
      "        line = line.strip()\n",
      "        lst = line.split()\n",
      "        if int(lst[0]) in summ.keys():\n",
      "            summ[int(lst[0])] += float(lst[2])\n",
      "            count[int(lst[0])] += 1\n",
      "        else:\n",
      "            summ[int(lst[0])] = float(lst[2])\n",
      "            count[int(lst[0])] = 1\n",
      "    \n",
      "    for i in range(11):\n",
      "        if i+1 in summ.keys():\n",
      "            print(i + 1, summ[i + 1] / count[i + 1])\n",
      "        else:\n",
      "            print(i + 1, '-')"
     ],
     "language": "python",
     "metadata": {},
     "outputs": [
      {
       "ename": "FileNotFoundError",
       "evalue": "[Errno 2] No such file or directory: ''",
       "output_type": "pyerr",
       "traceback": [
        "\u001b[1;31m---------------------------------------------------------------------------\u001b[0m\n\u001b[1;31mFileNotFoundError\u001b[0m                         Traceback (most recent call last)",
        "\u001b[1;32m<ipython-input-16-aef9029a3ac7>\u001b[0m in \u001b[0;36m<module>\u001b[1;34m()\u001b[0m\n\u001b[0;32m      4\u001b[0m \u001b[0mcount\u001b[0m \u001b[1;33m=\u001b[0m \u001b[1;33m{\u001b[0m\u001b[1;33m}\u001b[0m\u001b[1;33m\u001b[0m\u001b[0m\n\u001b[0;32m      5\u001b[0m \u001b[1;33m\u001b[0m\u001b[0m\n\u001b[1;32m----> 6\u001b[1;33m \u001b[1;32mwith\u001b[0m \u001b[0mopen\u001b[0m\u001b[1;33m(\u001b[0m\u001b[1;34m''\u001b[0m\u001b[1;33m,\u001b[0m\u001b[1;34m'r'\u001b[0m\u001b[1;33m)\u001b[0m \u001b[1;32mas\u001b[0m \u001b[0minf\u001b[0m\u001b[1;33m:\u001b[0m\u001b[1;33m\u001b[0m\u001b[0m\n\u001b[0m\u001b[0;32m      7\u001b[0m     \u001b[1;32mfor\u001b[0m \u001b[0mline\u001b[0m \u001b[1;32min\u001b[0m \u001b[0minf\u001b[0m\u001b[1;33m:\u001b[0m\u001b[1;33m\u001b[0m\u001b[0m\n\u001b[0;32m      8\u001b[0m         \u001b[0mline\u001b[0m \u001b[1;33m=\u001b[0m \u001b[0mline\u001b[0m\u001b[1;33m.\u001b[0m\u001b[0mstrip\u001b[0m\u001b[1;33m(\u001b[0m\u001b[1;33m)\u001b[0m\u001b[1;33m\u001b[0m\u001b[0m\n",
        "\u001b[1;31mFileNotFoundError\u001b[0m: [Errno 2] No such file or directory: ''"
       ]
      }
     ],
     "prompt_number": 16
    },
    {
     "cell_type": "code",
     "collapsed": false,
     "input": [],
     "language": "python",
     "metadata": {},
     "outputs": []
    }
   ],
   "metadata": {}
  }
 ]
}